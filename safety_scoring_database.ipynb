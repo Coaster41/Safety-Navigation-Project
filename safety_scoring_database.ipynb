{
 "cells": [
  {
   "cell_type": "code",
   "execution_count": 1,
   "metadata": {},
   "outputs": [],
   "source": [
    "import csv\n",
    "from neo4j import GraphDatabase\n",
    "from neo4j.exceptions import ServiceUnavailable\n",
    "import math"
   ]
  },
  {
   "cell_type": "code",
   "execution_count": 7,
   "metadata": {},
   "outputs": [],
   "source": [
    "class databaseObj:\n",
    "    def __init__(self, uri, user, password):\n",
    "        self.driver = GraphDatabase.driver(uri, auth=(user, password))\n",
    "    \n",
    "    def close(self):\n",
    "        self.driver.close()\n",
    "    \n",
    "    def print_greeting(self, message):\n",
    "        with self.driver.session() as session:\n",
    "            greeting = session.write_transaction(self._create_and_return_greeting, message)\n",
    "            print(greeting)\n",
    "    \n",
    "    def get_nearest_nodes(self, miner, maxer):\n",
    "        with self.driver.session() as session:\n",
    "            return session.write_transaction(self._get_nearest_nodes, miner, maxer)\n",
    "\n",
    "    def attach_incident_node(self, miner, maxer):\n",
    "        with self.driver.session() as session:\n",
    "            return session.write_transaction(self._attach_incident_node, miner, maxer)\n",
    "\n",
    "    def create_and_return_greeting(self, miner, maxer):\n",
    "        with self.driver.session() as session:\n",
    "            return session.write_transaction(self._create_and_return_greeting, miner, maxer)\n",
    "\n",
    "    @staticmethod\n",
    "    def _create_and_return_greeting(tx, miner, maxer):\n",
    "        result = tx.run(\"MATCH (g:LOCATION) \"\n",
    "                        \"where ID(g)>$miner and ID(g)<$maxer \"  \n",
    "                        \"WITH g.x as long, collect(g) AS nodes \"\n",
    "                        \"WHERE size(nodes) >  1 \"\n",
    "                        \"FOREACH (g in tail(nodes) | Detach DELETE g)\", miner=miner, maxer=maxer)\n",
    "        return None\n",
    "    \n",
    "    @staticmethod\n",
    "    def _get_nearest_nodes(tx, miner, maxer):\n",
    "        result = tx.run(\"CYPHER runtime=slotted \"\n",
    "                        \"MATCH (l1:LOCATION) \"\n",
    "                        \"where ID(l1)>$miner and ID(l1)<$maxer \"\n",
    "                        \"CALL { \"\n",
    "                        \"with l1 \"\n",
    "                        \"match (l1)<-[:OCCURED_AT]-(l2:INCIDENT) \"\n",
    "                        \"return sum(l2.severity)/2+1 as summer \"\n",
    "                        \"} \"\n",
    "                        \"with l1, summer \"\n",
    "                        \"set l1.safety_score = summer\", miner=miner, maxer=maxer)\n",
    "        return None\n",
    "\n",
    "    @staticmethod\n",
    "    def _attach_incident_node(tx, miner, maxer):\n",
    "        result = tx.run(\"CYPHER runtime=slotted \"\n",
    "                        \"MATCH (l1:INCIDENT) \"\n",
    "                        \"where ID(l1)<$maxer and ID(l1)>$miner \"\n",
    "                        \"CALL { \"\n",
    "                        \"WITH l1 \"\n",
    "                        \"MATCH (l2:LOCATION) \"\n",
    "                        \"with l2, (l1.x-l2.x)*(l1.x-l2.x)+(l1.y-l2.y)*(l1.y-l2.y) AS dist \"\n",
    "                        \"where dist < 0.00003 \"\n",
    "                        \"RETURN l2, dist \"\n",
    "                        \"ORDER BY dist ASC LIMIT 10 \"\n",
    "                        \"} \"\n",
    "                        \"WITH l1,l2, dist \"\n",
    "                        \"MERGE (l1)-[n:OCCURED_AT]->(l2) \"\n",
    "                        \"ON CREATE SET n.distance = dist\", miner=miner, maxer=maxer)\n",
    "        return None\n"
   ]
  },
  {
   "cell_type": "code",
   "execution_count": 1,
   "metadata": {},
   "outputs": [],
   "source": [
    "def lineToDict(key, value):\n",
    "    key = key.split(',')\n",
    "    value = value.split(',')\n",
    "    result = {}\n",
    "    for id, val in zip(key, value):\n",
    "        result[id] = val\n",
    "    return result\n",
    "\n",
    "def getSquareDistance(coord1, coord2):\n",
    "    return math.pow(coord1[0]-coord2[0], 2) + math.pow(coord1[1]-coord2[1], 2)\n",
    "\n",
    "def closestNode(nodes, location):\n",
    "    closeNodes = {}\n",
    "    for key, loc in nodes.items():\n",
    "        closeNodes[key] = getSquareDistance(loc, location)\n",
    "    return min(nodes, key=closeNodes.get)"
   ]
  },
  {
   "cell_type": "code",
   "execution_count": null,
   "metadata": {},
   "outputs": [],
   "source": [
    "# graph = Graph(\"neo4j+s://347bdfd6.production-orch-0002.neo4j.io:7687\", auth=(\"neo4j\", \"6uNa34OrH1v3_T08NF-bX7DMaqc55YE--ZUQCHI5zCc\"))\n",
    "greeter = databaseObj(\"neo4j+ssc://347bdfd6.production-orch-0002.neo4j.io:7687\", \"neo4j\", \"6uNa34OrH1v3_T08NF-bX7DMaqc55YE--ZUQCHI5zCc\")\n",
    "incident_ids = []\n",
    "with open('UCSCDumpUpdated.csv', newline='') as csvfile:\n",
    "    reader = csv.reader(csvfile, delimiter='\\n', quotechar='|')\n",
    "    for i, row in enumerate(reader):\n",
    "        if i == 0:\n",
    "            key = (','.join(row))\n",
    "        elif i < 0:\n",
    "            # print(i)\n",
    "            pass\n",
    "        else:\n",
    "            line = (','.join(row))\n",
    "            line = lineToDict(key, line)\n",
    "            # print(line['Longitude'])\n",
    "            # id = greeter.get_nearest_nodes(float(line['Longitude']), float(line['Latitude']), int(line['CurrentPriorityKey']), line['IncidentTypeDescription'])\n",
    "            try:\n",
    "                id = greeter.get_nearest_nodes(float(line['Longitude']), float(line['Latitude']), int(line['CurrentPriorityKey']), line['IncidentTypeDescription'])\n",
    "                # if id != None:\n",
    "                #     incident_id = greeter.attach_incident_node(id, int(line['CurrentPriorityKey']), line['IncidentTypeDescription'])\n",
    "                #     # incident_ids.append(id)\n",
    "                #     # print(incident_id)\n",
    "            except:\n",
    "                print('failure at',i)\n",
    "                pass\n",
    "        # else:\n",
    "        #     break"
   ]
  },
  {
   "cell_type": "code",
   "execution_count": 10,
   "metadata": {},
   "outputs": [
    {
     "name": "stderr",
     "output_type": "stream",
     "text": [
      "Failed to read from defunct connection IPv4Address(('neo4j-core-347bdfd6-7.production-orch-0002.neo4j.io', 7687)) (IPv4Address(('104.197.20.211', 7687)))\n"
     ]
    },
    {
     "ename": "IncompleteCommit",
     "evalue": "Failed to read from defunct connection IPv4Address(('neo4j-core-347bdfd6-7.production-orch-0002.neo4j.io', 7687)) (IPv4Address(('104.197.20.211', 7687)))",
     "output_type": "error",
     "traceback": [
      "\u001b[1;31m---------------------------------------------------------------------------\u001b[0m",
      "\u001b[1;31mOSError\u001b[0m                                   Traceback (most recent call last)",
      "File \u001b[1;32m~\\AppData\\Local\\Packages\\PythonSoftwareFoundation.Python.3.9_qbz5n2kfra8p0\\LocalCache\\local-packages\\Python39\\site-packages\\neo4j\\io\\_common.py:55\u001b[0m, in \u001b[0;36mMessageInbox._yield_messages\u001b[1;34m(self, sock)\u001b[0m\n\u001b[0;32m     <a href='file:///c%3A/Users/co41c/AppData/Local/Packages/PythonSoftwareFoundation.Python.3.9_qbz5n2kfra8p0/LocalCache/local-packages/Python39/site-packages/neo4j/io/_common.py?line=52'>53</a>\u001b[0m \u001b[39mwhile\u001b[39;00m chunk_size \u001b[39m==\u001b[39m \u001b[39m0\u001b[39m:\n\u001b[0;32m     <a href='file:///c%3A/Users/co41c/AppData/Local/Packages/PythonSoftwareFoundation.Python.3.9_qbz5n2kfra8p0/LocalCache/local-packages/Python39/site-packages/neo4j/io/_common.py?line=53'>54</a>\u001b[0m     \u001b[39m# Determine the chunk size and skip noop\u001b[39;00m\n\u001b[1;32m---> <a href='file:///c%3A/Users/co41c/AppData/Local/Packages/PythonSoftwareFoundation.Python.3.9_qbz5n2kfra8p0/LocalCache/local-packages/Python39/site-packages/neo4j/io/_common.py?line=54'>55</a>\u001b[0m     buffer\u001b[39m.\u001b[39;49mreceive(sock, \u001b[39m2\u001b[39;49m)\n\u001b[0;32m     <a href='file:///c%3A/Users/co41c/AppData/Local/Packages/PythonSoftwareFoundation.Python.3.9_qbz5n2kfra8p0/LocalCache/local-packages/Python39/site-packages/neo4j/io/_common.py?line=55'>56</a>\u001b[0m     chunk_size \u001b[39m=\u001b[39m buffer\u001b[39m.\u001b[39mpop_u16()\n",
      "File \u001b[1;32m~\\AppData\\Local\\Packages\\PythonSoftwareFoundation.Python.3.9_qbz5n2kfra8p0\\LocalCache\\local-packages\\Python39\\site-packages\\neo4j\\packstream.py:484\u001b[0m, in \u001b[0;36mUnpackableBuffer.receive\u001b[1;34m(self, sock, n_bytes)\u001b[0m\n\u001b[0;32m    <a href='file:///c%3A/Users/co41c/AppData/Local/Packages/PythonSoftwareFoundation.Python.3.9_qbz5n2kfra8p0/LocalCache/local-packages/Python39/site-packages/neo4j/packstream.py?line=482'>483</a>\u001b[0m \u001b[39mif\u001b[39;00m n \u001b[39m==\u001b[39m \u001b[39m0\u001b[39m:\n\u001b[1;32m--> <a href='file:///c%3A/Users/co41c/AppData/Local/Packages/PythonSoftwareFoundation.Python.3.9_qbz5n2kfra8p0/LocalCache/local-packages/Python39/site-packages/neo4j/packstream.py?line=483'>484</a>\u001b[0m     \u001b[39mraise\u001b[39;00m \u001b[39mOSError\u001b[39;00m(\u001b[39m\"\u001b[39m\u001b[39mNo data\u001b[39m\u001b[39m\"\u001b[39m)\n\u001b[0;32m    <a href='file:///c%3A/Users/co41c/AppData/Local/Packages/PythonSoftwareFoundation.Python.3.9_qbz5n2kfra8p0/LocalCache/local-packages/Python39/site-packages/neo4j/packstream.py?line=484'>485</a>\u001b[0m \u001b[39mself\u001b[39m\u001b[39m.\u001b[39mused \u001b[39m+\u001b[39m\u001b[39m=\u001b[39m n\n",
      "\u001b[1;31mOSError\u001b[0m: No data",
      "\nThe above exception was the direct cause of the following exception:\n",
      "\u001b[1;31mIncompleteCommit\u001b[0m                          Traceback (most recent call last)",
      "\u001b[1;32mc:\\Users\\co41c\\OneDrive - ucsc.edu\\UCSC\\Freshman\\Safety Pathing\\safety_scoring_database.ipynb Cell 5'\u001b[0m in \u001b[0;36m<module>\u001b[1;34m\u001b[0m\n\u001b[0;32m      <a href='vscode-notebook-cell:/c%3A/Users/co41c/OneDrive%20-%20ucsc.edu/UCSC/Freshman/Safety%20Pathing/safety_scoring_database.ipynb#ch0000004?line=5'>6</a>\u001b[0m counter \u001b[39m=\u001b[39m \u001b[39m0\u001b[39m\n\u001b[0;32m      <a href='vscode-notebook-cell:/c%3A/Users/co41c/OneDrive%20-%20ucsc.edu/UCSC/Freshman/Safety%20Pathing/safety_scoring_database.ipynb#ch0000004?line=6'>7</a>\u001b[0m \u001b[39mwhile\u001b[39;00m \u001b[39m219537\u001b[39m \u001b[39m>\u001b[39m maxer:\n\u001b[1;32m----> <a href='vscode-notebook-cell:/c%3A/Users/co41c/OneDrive%20-%20ucsc.edu/UCSC/Freshman/Safety%20Pathing/safety_scoring_database.ipynb#ch0000004?line=7'>8</a>\u001b[0m     greeter\u001b[39m.\u001b[39;49mcreate_and_return_greeting(miner, maxer)\n\u001b[0;32m      <a href='vscode-notebook-cell:/c%3A/Users/co41c/OneDrive%20-%20ucsc.edu/UCSC/Freshman/Safety%20Pathing/safety_scoring_database.ipynb#ch0000004?line=8'>9</a>\u001b[0m     \u001b[39mbreak\u001b[39;00m\n",
      "\u001b[1;32mc:\\Users\\co41c\\OneDrive - ucsc.edu\\UCSC\\Freshman\\Safety Pathing\\safety_scoring_database.ipynb Cell 2'\u001b[0m in \u001b[0;36mdatabaseObj.create_and_return_greeting\u001b[1;34m(self, miner, maxer)\u001b[0m\n\u001b[0;32m     <a href='vscode-notebook-cell:/c%3A/Users/co41c/OneDrive%20-%20ucsc.edu/UCSC/Freshman/Safety%20Pathing/safety_scoring_database.ipynb#ch0000001?line=20'>21</a>\u001b[0m \u001b[39mdef\u001b[39;00m \u001b[39mcreate_and_return_greeting\u001b[39m(\u001b[39mself\u001b[39m, miner, maxer):\n\u001b[0;32m     <a href='vscode-notebook-cell:/c%3A/Users/co41c/OneDrive%20-%20ucsc.edu/UCSC/Freshman/Safety%20Pathing/safety_scoring_database.ipynb#ch0000001?line=21'>22</a>\u001b[0m     \u001b[39mwith\u001b[39;00m \u001b[39mself\u001b[39m\u001b[39m.\u001b[39mdriver\u001b[39m.\u001b[39msession() \u001b[39mas\u001b[39;00m session:\n\u001b[1;32m---> <a href='vscode-notebook-cell:/c%3A/Users/co41c/OneDrive%20-%20ucsc.edu/UCSC/Freshman/Safety%20Pathing/safety_scoring_database.ipynb#ch0000001?line=22'>23</a>\u001b[0m         \u001b[39mreturn\u001b[39;00m session\u001b[39m.\u001b[39;49mwrite_transaction(\u001b[39mself\u001b[39;49m\u001b[39m.\u001b[39;49m_create_and_return_greeting, miner, maxer)\n",
      "File \u001b[1;32m~\\AppData\\Local\\Packages\\PythonSoftwareFoundation.Python.3.9_qbz5n2kfra8p0\\LocalCache\\local-packages\\Python39\\site-packages\\neo4j\\work\\simple.py:421\u001b[0m, in \u001b[0;36mSession.write_transaction\u001b[1;34m(self, transaction_function, *args, **kwargs)\u001b[0m\n\u001b[0;32m    <a href='file:///c%3A/Users/co41c/AppData/Local/Packages/PythonSoftwareFoundation.Python.3.9_qbz5n2kfra8p0/LocalCache/local-packages/Python39/site-packages/neo4j/work/simple.py?line=397'>398</a>\u001b[0m \u001b[39mdef\u001b[39;00m \u001b[39mwrite_transaction\u001b[39m(\u001b[39mself\u001b[39m, transaction_function, \u001b[39m*\u001b[39margs, \u001b[39m*\u001b[39m\u001b[39m*\u001b[39mkwargs):\n\u001b[0;32m    <a href='file:///c%3A/Users/co41c/AppData/Local/Packages/PythonSoftwareFoundation.Python.3.9_qbz5n2kfra8p0/LocalCache/local-packages/Python39/site-packages/neo4j/work/simple.py?line=398'>399</a>\u001b[0m     \u001b[39m\"\"\"Execute a unit of work in a managed write transaction.\u001b[39;00m\n\u001b[0;32m    <a href='file:///c%3A/Users/co41c/AppData/Local/Packages/PythonSoftwareFoundation.Python.3.9_qbz5n2kfra8p0/LocalCache/local-packages/Python39/site-packages/neo4j/work/simple.py?line=399'>400</a>\u001b[0m \u001b[39m    This transaction will automatically be committed unless an exception is thrown during query execution or by the user code.\u001b[39;00m\n\u001b[0;32m    <a href='file:///c%3A/Users/co41c/AppData/Local/Packages/PythonSoftwareFoundation.Python.3.9_qbz5n2kfra8p0/LocalCache/local-packages/Python39/site-packages/neo4j/work/simple.py?line=400'>401</a>\u001b[0m \u001b[39m    Note, that this function perform retries and that the supplied `transaction_function` might get invoked more than once.\u001b[39;00m\n\u001b[1;32m   (...)\u001b[0m\n\u001b[0;32m    <a href='file:///c%3A/Users/co41c/AppData/Local/Packages/PythonSoftwareFoundation.Python.3.9_qbz5n2kfra8p0/LocalCache/local-packages/Python39/site-packages/neo4j/work/simple.py?line=418'>419</a>\u001b[0m \u001b[39m    :return: a result as returned by the given unit of work\u001b[39;00m\n\u001b[0;32m    <a href='file:///c%3A/Users/co41c/AppData/Local/Packages/PythonSoftwareFoundation.Python.3.9_qbz5n2kfra8p0/LocalCache/local-packages/Python39/site-packages/neo4j/work/simple.py?line=419'>420</a>\u001b[0m \u001b[39m    \"\"\"\u001b[39;00m\n\u001b[1;32m--> <a href='file:///c%3A/Users/co41c/AppData/Local/Packages/PythonSoftwareFoundation.Python.3.9_qbz5n2kfra8p0/LocalCache/local-packages/Python39/site-packages/neo4j/work/simple.py?line=420'>421</a>\u001b[0m     \u001b[39mreturn\u001b[39;00m \u001b[39mself\u001b[39m\u001b[39m.\u001b[39m_run_transaction(WRITE_ACCESS, transaction_function, \u001b[39m*\u001b[39margs, \u001b[39m*\u001b[39m\u001b[39m*\u001b[39mkwargs)\n",
      "File \u001b[1;32m~\\AppData\\Local\\Packages\\PythonSoftwareFoundation.Python.3.9_qbz5n2kfra8p0\\LocalCache\\local-packages\\Python39\\site-packages\\neo4j\\work\\simple.py:330\u001b[0m, in \u001b[0;36mSession._run_transaction\u001b[1;34m(self, access_mode, transaction_function, *args, **kwargs)\u001b[0m\n\u001b[0;32m    <a href='file:///c%3A/Users/co41c/AppData/Local/Packages/PythonSoftwareFoundation.Python.3.9_qbz5n2kfra8p0/LocalCache/local-packages/Python39/site-packages/neo4j/work/simple.py?line=327'>328</a>\u001b[0m         \u001b[39mraise\u001b[39;00m\n\u001b[0;32m    <a href='file:///c%3A/Users/co41c/AppData/Local/Packages/PythonSoftwareFoundation.Python.3.9_qbz5n2kfra8p0/LocalCache/local-packages/Python39/site-packages/neo4j/work/simple.py?line=328'>329</a>\u001b[0m     \u001b[39melse\u001b[39;00m:\n\u001b[1;32m--> <a href='file:///c%3A/Users/co41c/AppData/Local/Packages/PythonSoftwareFoundation.Python.3.9_qbz5n2kfra8p0/LocalCache/local-packages/Python39/site-packages/neo4j/work/simple.py?line=329'>330</a>\u001b[0m         tx\u001b[39m.\u001b[39;49mcommit()\n\u001b[0;32m    <a href='file:///c%3A/Users/co41c/AppData/Local/Packages/PythonSoftwareFoundation.Python.3.9_qbz5n2kfra8p0/LocalCache/local-packages/Python39/site-packages/neo4j/work/simple.py?line=330'>331</a>\u001b[0m \u001b[39mexcept\u001b[39;00m IncompleteCommit:\n\u001b[0;32m    <a href='file:///c%3A/Users/co41c/AppData/Local/Packages/PythonSoftwareFoundation.Python.3.9_qbz5n2kfra8p0/LocalCache/local-packages/Python39/site-packages/neo4j/work/simple.py?line=331'>332</a>\u001b[0m     \u001b[39mraise\u001b[39;00m\n",
      "File \u001b[1;32m~\\AppData\\Local\\Packages\\PythonSoftwareFoundation.Python.3.9_qbz5n2kfra8p0\\LocalCache\\local-packages\\Python39\\site-packages\\neo4j\\work\\transaction.py:157\u001b[0m, in \u001b[0;36mTransaction.commit\u001b[1;34m(self)\u001b[0m\n\u001b[0;32m    <a href='file:///c%3A/Users/co41c/AppData/Local/Packages/PythonSoftwareFoundation.Python.3.9_qbz5n2kfra8p0/LocalCache/local-packages/Python39/site-packages/neo4j/work/transaction.py?line=154'>155</a>\u001b[0m     \u001b[39mself\u001b[39m\u001b[39m.\u001b[39m_connection\u001b[39m.\u001b[39mcommit(on_success\u001b[39m=\u001b[39mmetadata\u001b[39m.\u001b[39mupdate)\n\u001b[0;32m    <a href='file:///c%3A/Users/co41c/AppData/Local/Packages/PythonSoftwareFoundation.Python.3.9_qbz5n2kfra8p0/LocalCache/local-packages/Python39/site-packages/neo4j/work/transaction.py?line=155'>156</a>\u001b[0m     \u001b[39mself\u001b[39m\u001b[39m.\u001b[39m_connection\u001b[39m.\u001b[39msend_all()\n\u001b[1;32m--> <a href='file:///c%3A/Users/co41c/AppData/Local/Packages/PythonSoftwareFoundation.Python.3.9_qbz5n2kfra8p0/LocalCache/local-packages/Python39/site-packages/neo4j/work/transaction.py?line=156'>157</a>\u001b[0m     \u001b[39mself\u001b[39;49m\u001b[39m.\u001b[39;49m_connection\u001b[39m.\u001b[39;49mfetch_all()\n\u001b[0;32m    <a href='file:///c%3A/Users/co41c/AppData/Local/Packages/PythonSoftwareFoundation.Python.3.9_qbz5n2kfra8p0/LocalCache/local-packages/Python39/site-packages/neo4j/work/transaction.py?line=157'>158</a>\u001b[0m     \u001b[39mself\u001b[39m\u001b[39m.\u001b[39m_bookmark \u001b[39m=\u001b[39m metadata\u001b[39m.\u001b[39mget(\u001b[39m\"\u001b[39m\u001b[39mbookmark\u001b[39m\u001b[39m\"\u001b[39m)\n\u001b[0;32m    <a href='file:///c%3A/Users/co41c/AppData/Local/Packages/PythonSoftwareFoundation.Python.3.9_qbz5n2kfra8p0/LocalCache/local-packages/Python39/site-packages/neo4j/work/transaction.py?line=158'>159</a>\u001b[0m \u001b[39mfinally\u001b[39;00m:\n",
      "File \u001b[1;32m~\\AppData\\Local\\Packages\\PythonSoftwareFoundation.Python.3.9_qbz5n2kfra8p0\\LocalCache\\local-packages\\Python39\\site-packages\\neo4j\\io\\__init__.py:535\u001b[0m, in \u001b[0;36mBolt.fetch_all\u001b[1;34m(self)\u001b[0m\n\u001b[0;32m    <a href='file:///c%3A/Users/co41c/AppData/Local/Packages/PythonSoftwareFoundation.Python.3.9_qbz5n2kfra8p0/LocalCache/local-packages/Python39/site-packages/neo4j/io/__init__.py?line=532'>533</a>\u001b[0m response \u001b[39m=\u001b[39m \u001b[39mself\u001b[39m\u001b[39m.\u001b[39mresponses[\u001b[39m0\u001b[39m]\n\u001b[0;32m    <a href='file:///c%3A/Users/co41c/AppData/Local/Packages/PythonSoftwareFoundation.Python.3.9_qbz5n2kfra8p0/LocalCache/local-packages/Python39/site-packages/neo4j/io/__init__.py?line=533'>534</a>\u001b[0m \u001b[39mwhile\u001b[39;00m \u001b[39mnot\u001b[39;00m response\u001b[39m.\u001b[39mcomplete:\n\u001b[1;32m--> <a href='file:///c%3A/Users/co41c/AppData/Local/Packages/PythonSoftwareFoundation.Python.3.9_qbz5n2kfra8p0/LocalCache/local-packages/Python39/site-packages/neo4j/io/__init__.py?line=534'>535</a>\u001b[0m     detail_delta, summary_delta \u001b[39m=\u001b[39m \u001b[39mself\u001b[39;49m\u001b[39m.\u001b[39;49mfetch_message()\n\u001b[0;32m    <a href='file:///c%3A/Users/co41c/AppData/Local/Packages/PythonSoftwareFoundation.Python.3.9_qbz5n2kfra8p0/LocalCache/local-packages/Python39/site-packages/neo4j/io/__init__.py?line=535'>536</a>\u001b[0m     detail_count \u001b[39m+\u001b[39m\u001b[39m=\u001b[39m detail_delta\n\u001b[0;32m    <a href='file:///c%3A/Users/co41c/AppData/Local/Packages/PythonSoftwareFoundation.Python.3.9_qbz5n2kfra8p0/LocalCache/local-packages/Python39/site-packages/neo4j/io/__init__.py?line=536'>537</a>\u001b[0m     summary_count \u001b[39m+\u001b[39m\u001b[39m=\u001b[39m summary_delta\n",
      "File \u001b[1;32m~\\AppData\\Local\\Packages\\PythonSoftwareFoundation.Python.3.9_qbz5n2kfra8p0\\LocalCache\\local-packages\\Python39\\site-packages\\neo4j\\io\\_bolt4.py:286\u001b[0m, in \u001b[0;36mBolt4x0.fetch_message\u001b[1;34m(self)\u001b[0m\n\u001b[0;32m    <a href='file:///c%3A/Users/co41c/AppData/Local/Packages/PythonSoftwareFoundation.Python.3.9_qbz5n2kfra8p0/LocalCache/local-packages/Python39/site-packages/neo4j/io/_bolt4.py?line=282'>283</a>\u001b[0m     \u001b[39mreturn\u001b[39;00m \u001b[39m0\u001b[39m, \u001b[39m0\u001b[39m\n\u001b[0;32m    <a href='file:///c%3A/Users/co41c/AppData/Local/Packages/PythonSoftwareFoundation.Python.3.9_qbz5n2kfra8p0/LocalCache/local-packages/Python39/site-packages/neo4j/io/_bolt4.py?line=284'>285</a>\u001b[0m \u001b[39m# Receive exactly one message\u001b[39;00m\n\u001b[1;32m--> <a href='file:///c%3A/Users/co41c/AppData/Local/Packages/PythonSoftwareFoundation.Python.3.9_qbz5n2kfra8p0/LocalCache/local-packages/Python39/site-packages/neo4j/io/_bolt4.py?line=285'>286</a>\u001b[0m details, summary_signature, summary_metadata \u001b[39m=\u001b[39m \u001b[39mnext\u001b[39;49m(\u001b[39mself\u001b[39;49m\u001b[39m.\u001b[39;49minbox)\n\u001b[0;32m    <a href='file:///c%3A/Users/co41c/AppData/Local/Packages/PythonSoftwareFoundation.Python.3.9_qbz5n2kfra8p0/LocalCache/local-packages/Python39/site-packages/neo4j/io/_bolt4.py?line=287'>288</a>\u001b[0m \u001b[39mif\u001b[39;00m details:\n\u001b[0;32m    <a href='file:///c%3A/Users/co41c/AppData/Local/Packages/PythonSoftwareFoundation.Python.3.9_qbz5n2kfra8p0/LocalCache/local-packages/Python39/site-packages/neo4j/io/_bolt4.py?line=288'>289</a>\u001b[0m     log\u001b[39m.\u001b[39mdebug(\u001b[39m\"\u001b[39m\u001b[39m[#\u001b[39m\u001b[39m%04X\u001b[39;00m\u001b[39m]  S: RECORD * \u001b[39m\u001b[39m%d\u001b[39;00m\u001b[39m\"\u001b[39m, \u001b[39mself\u001b[39m\u001b[39m.\u001b[39mlocal_port, \u001b[39mlen\u001b[39m(details))  \u001b[39m# Do not log any data\u001b[39;00m\n",
      "File \u001b[1;32m~\\AppData\\Local\\Packages\\PythonSoftwareFoundation.Python.3.9_qbz5n2kfra8p0\\LocalCache\\local-packages\\Python39\\site-packages\\neo4j\\io\\_common.py:81\u001b[0m, in \u001b[0;36mInbox.__next__\u001b[1;34m(self)\u001b[0m\n\u001b[0;32m     <a href='file:///c%3A/Users/co41c/AppData/Local/Packages/PythonSoftwareFoundation.Python.3.9_qbz5n2kfra8p0/LocalCache/local-packages/Python39/site-packages/neo4j/io/_common.py?line=79'>80</a>\u001b[0m \u001b[39mdef\u001b[39;00m \u001b[39m__next__\u001b[39m(\u001b[39mself\u001b[39m):\n\u001b[1;32m---> <a href='file:///c%3A/Users/co41c/AppData/Local/Packages/PythonSoftwareFoundation.Python.3.9_qbz5n2kfra8p0/LocalCache/local-packages/Python39/site-packages/neo4j/io/_common.py?line=80'>81</a>\u001b[0m     tag, fields \u001b[39m=\u001b[39m \u001b[39mself\u001b[39;49m\u001b[39m.\u001b[39;49mpop()\n\u001b[0;32m     <a href='file:///c%3A/Users/co41c/AppData/Local/Packages/PythonSoftwareFoundation.Python.3.9_qbz5n2kfra8p0/LocalCache/local-packages/Python39/site-packages/neo4j/io/_common.py?line=81'>82</a>\u001b[0m     \u001b[39mif\u001b[39;00m tag \u001b[39m==\u001b[39m \u001b[39mb\u001b[39m\u001b[39m\"\u001b[39m\u001b[39m\\x71\u001b[39;00m\u001b[39m\"\u001b[39m:\n\u001b[0;32m     <a href='file:///c%3A/Users/co41c/AppData/Local/Packages/PythonSoftwareFoundation.Python.3.9_qbz5n2kfra8p0/LocalCache/local-packages/Python39/site-packages/neo4j/io/_common.py?line=82'>83</a>\u001b[0m         \u001b[39mreturn\u001b[39;00m fields, \u001b[39mNone\u001b[39;00m, \u001b[39mNone\u001b[39;00m\n",
      "File \u001b[1;32m~\\AppData\\Local\\Packages\\PythonSoftwareFoundation.Python.3.9_qbz5n2kfra8p0\\LocalCache\\local-packages\\Python39\\site-packages\\neo4j\\io\\_common.py:75\u001b[0m, in \u001b[0;36mMessageInbox.pop\u001b[1;34m(self)\u001b[0m\n\u001b[0;32m     <a href='file:///c%3A/Users/co41c/AppData/Local/Packages/PythonSoftwareFoundation.Python.3.9_qbz5n2kfra8p0/LocalCache/local-packages/Python39/site-packages/neo4j/io/_common.py?line=73'>74</a>\u001b[0m \u001b[39mdef\u001b[39;00m \u001b[39mpop\u001b[39m(\u001b[39mself\u001b[39m):\n\u001b[1;32m---> <a href='file:///c%3A/Users/co41c/AppData/Local/Packages/PythonSoftwareFoundation.Python.3.9_qbz5n2kfra8p0/LocalCache/local-packages/Python39/site-packages/neo4j/io/_common.py?line=74'>75</a>\u001b[0m     \u001b[39mreturn\u001b[39;00m \u001b[39mnext\u001b[39;49m(\u001b[39mself\u001b[39;49m\u001b[39m.\u001b[39;49m_messages)\n",
      "File \u001b[1;32m~\\AppData\\Local\\Packages\\PythonSoftwareFoundation.Python.3.9_qbz5n2kfra8p0\\LocalCache\\local-packages\\Python39\\site-packages\\neo4j\\io\\_common.py:72\u001b[0m, in \u001b[0;36mMessageInbox._yield_messages\u001b[1;34m(self, sock)\u001b[0m\n\u001b[0;32m     <a href='file:///c%3A/Users/co41c/AppData/Local/Packages/PythonSoftwareFoundation.Python.3.9_qbz5n2kfra8p0/LocalCache/local-packages/Python39/site-packages/neo4j/io/_common.py?line=68'>69</a>\u001b[0m             unpacker\u001b[39m.\u001b[39mreset()\n\u001b[0;32m     <a href='file:///c%3A/Users/co41c/AppData/Local/Packages/PythonSoftwareFoundation.Python.3.9_qbz5n2kfra8p0/LocalCache/local-packages/Python39/site-packages/neo4j/io/_common.py?line=70'>71</a>\u001b[0m \u001b[39mexcept\u001b[39;00m (\u001b[39mOSError\u001b[39;00m, socket\u001b[39m.\u001b[39mtimeout) \u001b[39mas\u001b[39;00m error:\n\u001b[1;32m---> <a href='file:///c%3A/Users/co41c/AppData/Local/Packages/PythonSoftwareFoundation.Python.3.9_qbz5n2kfra8p0/LocalCache/local-packages/Python39/site-packages/neo4j/io/_common.py?line=71'>72</a>\u001b[0m     \u001b[39mself\u001b[39;49m\u001b[39m.\u001b[39;49mon_error(error)\n",
      "File \u001b[1;32m~\\AppData\\Local\\Packages\\PythonSoftwareFoundation.Python.3.9_qbz5n2kfra8p0\\LocalCache\\local-packages\\Python39\\site-packages\\neo4j\\io\\__init__.py:544\u001b[0m, in \u001b[0;36mBolt._set_defunct_read\u001b[1;34m(self, error, silent)\u001b[0m\n\u001b[0;32m    <a href='file:///c%3A/Users/co41c/AppData/Local/Packages/PythonSoftwareFoundation.Python.3.9_qbz5n2kfra8p0/LocalCache/local-packages/Python39/site-packages/neo4j/io/__init__.py?line=539'>540</a>\u001b[0m \u001b[39mdef\u001b[39;00m \u001b[39m_set_defunct_read\u001b[39m(\u001b[39mself\u001b[39m, error\u001b[39m=\u001b[39m\u001b[39mNone\u001b[39;00m, silent\u001b[39m=\u001b[39m\u001b[39mFalse\u001b[39;00m):\n\u001b[0;32m    <a href='file:///c%3A/Users/co41c/AppData/Local/Packages/PythonSoftwareFoundation.Python.3.9_qbz5n2kfra8p0/LocalCache/local-packages/Python39/site-packages/neo4j/io/__init__.py?line=540'>541</a>\u001b[0m     message \u001b[39m=\u001b[39m \u001b[39m\"\u001b[39m\u001b[39mFailed to read from defunct connection \u001b[39m\u001b[39m{!r}\u001b[39;00m\u001b[39m (\u001b[39m\u001b[39m{!r}\u001b[39;00m\u001b[39m)\u001b[39m\u001b[39m\"\u001b[39m\u001b[39m.\u001b[39mformat(\n\u001b[0;32m    <a href='file:///c%3A/Users/co41c/AppData/Local/Packages/PythonSoftwareFoundation.Python.3.9_qbz5n2kfra8p0/LocalCache/local-packages/Python39/site-packages/neo4j/io/__init__.py?line=541'>542</a>\u001b[0m         \u001b[39mself\u001b[39m\u001b[39m.\u001b[39munresolved_address, \u001b[39mself\u001b[39m\u001b[39m.\u001b[39mserver_info\u001b[39m.\u001b[39maddress\n\u001b[0;32m    <a href='file:///c%3A/Users/co41c/AppData/Local/Packages/PythonSoftwareFoundation.Python.3.9_qbz5n2kfra8p0/LocalCache/local-packages/Python39/site-packages/neo4j/io/__init__.py?line=542'>543</a>\u001b[0m     )\n\u001b[1;32m--> <a href='file:///c%3A/Users/co41c/AppData/Local/Packages/PythonSoftwareFoundation.Python.3.9_qbz5n2kfra8p0/LocalCache/local-packages/Python39/site-packages/neo4j/io/__init__.py?line=543'>544</a>\u001b[0m     \u001b[39mself\u001b[39;49m\u001b[39m.\u001b[39;49m_set_defunct(message, error\u001b[39m=\u001b[39;49merror, silent\u001b[39m=\u001b[39;49msilent)\n",
      "File \u001b[1;32m~\\AppData\\Local\\Packages\\PythonSoftwareFoundation.Python.3.9_qbz5n2kfra8p0\\LocalCache\\local-packages\\Python39\\site-packages\\neo4j\\io\\__init__.py:574\u001b[0m, in \u001b[0;36mBolt._set_defunct\u001b[1;34m(self, message, error, silent)\u001b[0m\n\u001b[0;32m    <a href='file:///c%3A/Users/co41c/AppData/Local/Packages/PythonSoftwareFoundation.Python.3.9_qbz5n2kfra8p0/LocalCache/local-packages/Python39/site-packages/neo4j/io/__init__.py?line=571'>572</a>\u001b[0m \u001b[39mif\u001b[39;00m \u001b[39misinstance\u001b[39m(response, CommitResponse):\n\u001b[0;32m    <a href='file:///c%3A/Users/co41c/AppData/Local/Packages/PythonSoftwareFoundation.Python.3.9_qbz5n2kfra8p0/LocalCache/local-packages/Python39/site-packages/neo4j/io/__init__.py?line=572'>573</a>\u001b[0m     \u001b[39mif\u001b[39;00m error:\n\u001b[1;32m--> <a href='file:///c%3A/Users/co41c/AppData/Local/Packages/PythonSoftwareFoundation.Python.3.9_qbz5n2kfra8p0/LocalCache/local-packages/Python39/site-packages/neo4j/io/__init__.py?line=573'>574</a>\u001b[0m         \u001b[39mraise\u001b[39;00m IncompleteCommit(message) \u001b[39mfrom\u001b[39;00m \u001b[39merror\u001b[39;00m\n\u001b[0;32m    <a href='file:///c%3A/Users/co41c/AppData/Local/Packages/PythonSoftwareFoundation.Python.3.9_qbz5n2kfra8p0/LocalCache/local-packages/Python39/site-packages/neo4j/io/__init__.py?line=574'>575</a>\u001b[0m     \u001b[39melse\u001b[39;00m:\n\u001b[0;32m    <a href='file:///c%3A/Users/co41c/AppData/Local/Packages/PythonSoftwareFoundation.Python.3.9_qbz5n2kfra8p0/LocalCache/local-packages/Python39/site-packages/neo4j/io/__init__.py?line=575'>576</a>\u001b[0m         \u001b[39mraise\u001b[39;00m IncompleteCommit(message)\n",
      "\u001b[1;31mIncompleteCommit\u001b[0m: Failed to read from defunct connection IPv4Address(('neo4j-core-347bdfd6-7.production-orch-0002.neo4j.io', 7687)) (IPv4Address(('104.197.20.211', 7687)))"
     ]
    }
   ],
   "source": [
    "greeter = databaseObj(\"neo4j+ssc://347bdfd6.production-orch-0002.neo4j.io:7687\", \"neo4j\", \"6uNa34OrH1v3_T08NF-bX7DMaqc55YE--ZUQCHI5zCc\")\n",
    "# greeter.create_and_return_greeting()\n",
    "miner = 0\n",
    "maxer = miner + 5000\n",
    "\n",
    "counter = 0\n",
    "while 219537 > maxer:\n",
    "    greeter.create_and_return_greeting(miner, maxer)\n",
    "    miner+=5000\n",
    "    maxer+=5000\n",
    "    if counter%10 == 0:\n",
    "        print(maxer)\n",
    "    counter+=1\n",
    "\n",
    "# intersections = greeter.get_nearest_nodes([36.9680,-121.9303], 10)\n",
    "# print(intersections)\n",
    "# '''\n",
    "# CYPHER runtime=slotted\n",
    "# MATCH (l1:LOCATION)\n",
    "# CALL {\n",
    "#     with l1\n",
    "#     match (l1)-[n:ROAD]-(l2:LOCATION)\n",
    "#     set n.safety_score = (l1.safety_score+l2.safety_score)*n.length\n",
    "# }'''"
   ]
  },
  {
   "cell_type": "code",
   "execution_count": 15,
   "metadata": {},
   "outputs": [
    {
     "name": "stdout",
     "output_type": "stream",
     "text": [
      "2000\n",
      "12000\n",
      "22000\n",
      "32000\n",
      "42000\n",
      "52000\n",
      "62000\n",
      "72000\n",
      "82000\n",
      "92000\n",
      "102000\n",
      "112000\n",
      "122000\n",
      "132000\n",
      "142000\n",
      "152000\n",
      "162000\n",
      "172000\n",
      "182000\n",
      "192000\n",
      "202000\n",
      "212000\n"
     ]
    }
   ],
   "source": [
    "greeter = databaseObj(\"neo4j+ssc://347bdfd6.production-orch-0002.neo4j.io:7687\", \"neo4j\", \"6uNa34OrH1v3_T08NF-bX7DMaqc55YE--ZUQCHI5zCc\")\n",
    "miner = 0\n",
    "maxer = miner + 1000\n",
    "counter = 0\n",
    "while 219537 > maxer:\n",
    "    greeter.get_nearest_nodes(miner, maxer)\n",
    "    miner+=1000\n",
    "    maxer+=1000\n",
    "    if counter%10 == 0:\n",
    "        print(maxer)\n",
    "    counter+=1"
   ]
  },
  {
   "cell_type": "code",
   "execution_count": 5,
   "metadata": {},
   "outputs": [
    {
     "name": "stdout",
     "output_type": "stream",
     "text": [
      "495538\n",
      "505538\n",
      "515538\n"
     ]
    },
    {
     "name": "stderr",
     "output_type": "stream",
     "text": [
      "Failed to read from defunct connection ResolvedIPv4Address(('104.197.20.211', 7687)) (IPv4Address(('104.197.20.211', 7687)))\n",
      "Unable to retrieve routing information\n",
      "Transaction failed and will be retried in 0.9311936220864584s (Unable to retrieve routing information)\n"
     ]
    },
    {
     "name": "stdout",
     "output_type": "stream",
     "text": [
      "525538\n",
      "535538\n",
      "545538\n",
      "555538\n"
     ]
    }
   ],
   "source": [
    "greeter = databaseObj(\"neo4j+ssc://347bdfd6.production-orch-0002.neo4j.io:7687\", \"neo4j\", \"6uNa34OrH1v3_T08NF-bX7DMaqc55YE--ZUQCHI5zCc\")\n",
    "miner = 493538\n",
    "maxer = miner + 1000\n",
    "counter = 0\n",
    "while 554973 > maxer:\n",
    "    greeter.attach_incident_node(miner, maxer)\n",
    "    miner+=1000\n",
    "    maxer+=1000\n",
    "    if counter%10 == 0:\n",
    "        print(maxer)\n",
    "    counter+=1"
   ]
  }
 ],
 "metadata": {
  "interpreter": {
   "hash": "6c386a58b4f607110daba2cff188c4d13064aec1b73cf6eb81ec049a6785b83a"
  },
  "kernelspec": {
   "display_name": "Python 3.9.10 64-bit (windows store)",
   "language": "python",
   "name": "python3"
  },
  "language_info": {
   "codemirror_mode": {
    "name": "ipython",
    "version": 3
   },
   "file_extension": ".py",
   "mimetype": "text/x-python",
   "name": "python",
   "nbconvert_exporter": "python",
   "pygments_lexer": "ipython3",
   "version": "3.9.11"
  },
  "orig_nbformat": 4
 },
 "nbformat": 4,
 "nbformat_minor": 2
}
